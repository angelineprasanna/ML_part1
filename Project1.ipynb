{
 "cells": [
  {
   "cell_type": "code",
   "execution_count": 1,
   "id": "fe34f771-b9d3-4968-96a1-3eb8042d8d00",
   "metadata": {},
   "outputs": [
    {
     "name": "stdout",
     "output_type": "stream",
     "text": [
      "Files have been extracted to data\n"
     ]
    }
   ],
   "source": [
    "import zipfile\n",
    "import os\n",
    "\n",
    "# Path to your zip file\n",
    "zip_file_path = '.\\data\\dataset.zip'\n",
    "\n",
    "# Directory where the contents will be extracted\n",
    "extract_dir = 'data'\n",
    "\n",
    "# Create the directory if it doesn't exist\n",
    "os.makedirs(extract_dir, exist_ok=True)\n",
    "\n",
    "# Open the zip file\n",
    "with zipfile.ZipFile(zip_file_path, 'r') as zip_ref:\n",
    "    # Extract all contents\n",
    "    zip_ref.extractall(extract_dir)\n",
    "\n",
    "print(f\"Files have been extracted to {extract_dir}\")\n"
   ]
  },
  {
   "cell_type": "code",
   "execution_count": 2,
   "id": "2d75c3b5-0647-4191-afdb-009dc7a52011",
   "metadata": {},
   "outputs": [],
   "source": [
    "from helpers import load_csv_data"
   ]
  },
  {
   "cell_type": "code",
   "execution_count": 4,
   "id": "b5e62193-3832-42e7-a4bd-86876709ee4a",
   "metadata": {},
   "outputs": [],
   "source": [
    " x_train, x_test, y_train, train_ids, test_ids = load_csv_data('./data/dataset/')"
   ]
  },
  {
   "cell_type": "code",
   "execution_count": 9,
   "id": "758ee978-3de6-4e60-b68e-8fcb7a0ef5d7",
   "metadata": {},
   "outputs": [
    {
     "name": "stdout",
     "output_type": "stream",
     "text": [
      "[328135]\n"
     ]
    }
   ],
   "source": [
    "print(test_ids[:1])"
   ]
  },
  {
   "cell_type": "code",
   "execution_count": null,
   "id": "968fbdf2-1218-486e-995c-ba9ab433337b",
   "metadata": {},
   "outputs": [],
   "source": []
  },
  {
   "cell_type": "code",
   "execution_count": null,
   "id": "1d0eb8e1-579b-4339-82f2-c04d03983eab",
   "metadata": {},
   "outputs": [],
   "source": []
  }
 ],
 "metadata": {
  "kernelspec": {
   "display_name": "Python [conda env:ml] *",
   "language": "python",
   "name": "conda-env-ml-py"
  },
  "language_info": {
   "codemirror_mode": {
    "name": "ipython",
    "version": 3
   },
   "file_extension": ".py",
   "mimetype": "text/x-python",
   "name": "python",
   "nbconvert_exporter": "python",
   "pygments_lexer": "ipython3",
   "version": "3.11.10"
  }
 },
 "nbformat": 4,
 "nbformat_minor": 5
}
